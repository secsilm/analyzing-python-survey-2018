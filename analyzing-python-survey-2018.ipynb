{
 "cells": [
  {
   "cell_type": "code",
   "execution_count": 1,
   "metadata": {},
   "outputs": [],
   "source": [
    "import pandas as pd\n",
    "import numpy as np\n",
    "import seaborn as sns\n",
    "import matplotlib.pyplot as plt\n",
    "%matplotlib inline"
   ]
  },
  {
   "cell_type": "code",
   "execution_count": 50,
   "metadata": {},
   "outputs": [],
   "source": [
    "sns.set_style('darkgrid')\n",
    "plt.rcParams['figure.figsize'] = (20, 6)"
   ]
  },
  {
   "cell_type": "code",
   "execution_count": 2,
   "metadata": {},
   "outputs": [
    {
     "name": "stderr",
     "output_type": "stream",
     "text": [
      "C:\\Users\\secsi\\Anaconda3\\lib\\site-packages\\IPython\\core\\interactiveshell.py:2785: DtypeWarning: Columns (168,197) have mixed types. Specify dtype option on import or set low_memory=False.\n",
      "  interactivity=interactivity, compiler=compiler, result=result)\n"
     ]
    }
   ],
   "source": [
    "survey = pd.read_csv('python_psf_external_18.csv')\n",
    "survey = survey.drop('Unnamed: 0', axis=1)\n",
    "survey.columns = [c.lower() for c in survey.columns]"
   ]
  },
  {
   "cell_type": "code",
   "execution_count": 3,
   "metadata": {},
   "outputs": [
    {
     "data": {
      "text/plain": [
       "(19835, 283)"
      ]
     },
     "execution_count": 3,
     "metadata": {},
     "output_type": "execute_result"
    }
   ],
   "source": [
    "survey.shape"
   ]
  },
  {
   "cell_type": "code",
   "execution_count": 4,
   "metadata": {},
   "outputs": [
    {
     "data": {
      "text/html": [
       "<div>\n",
       "<style scoped>\n",
       "    .dataframe tbody tr th:only-of-type {\n",
       "        vertical-align: middle;\n",
       "    }\n",
       "\n",
       "    .dataframe tbody tr th {\n",
       "        vertical-align: top;\n",
       "    }\n",
       "\n",
       "    .dataframe thead th {\n",
       "        text-align: right;\n",
       "    }\n",
       "</style>\n",
       "<table border=\"1\" class=\"dataframe\">\n",
       "  <thead>\n",
       "    <tr style=\"text-align: right;\">\n",
       "      <th></th>\n",
       "      <th>is python the main language you use for your current projects?</th>\n",
       "      <th>none:what other language(s) do you use?</th>\n",
       "      <th>java:what other language(s) do you use?</th>\n",
       "      <th>javascript:what other language(s) do you use?</th>\n",
       "      <th>c/c++:what other language(s) do you use?</th>\n",
       "      <th>php:what other language(s) do you use?</th>\n",
       "      <th>c#:what other language(s) do you use?</th>\n",
       "      <th>ruby:what other language(s) do you use?</th>\n",
       "      <th>bash / shell:what other language(s) do you use?</th>\n",
       "      <th>objective-c:what other language(s) do you use?</th>\n",
       "      <th>...</th>\n",
       "      <th>technical support:which of the following best describes your job role(s)?</th>\n",
       "      <th>data analyst:which of the following best describes your job role(s)?</th>\n",
       "      <th>business analyst:which of the following best describes your job role(s)?</th>\n",
       "      <th>team lead:which of the following best describes your job role(s)?</th>\n",
       "      <th>product manager:which of the following best describes your job role(s)?</th>\n",
       "      <th>cio / ceo / cto:which of the following best describes your job role(s)?</th>\n",
       "      <th>systems analyst:which of the following best describes your job role(s)?</th>\n",
       "      <th>other  write in::which of the following best describes your job role(s)?</th>\n",
       "      <th>could you tell us your age range?</th>\n",
       "      <th>what country do you live in?</th>\n",
       "    </tr>\n",
       "  </thead>\n",
       "  <tbody>\n",
       "    <tr>\n",
       "      <th>1153</th>\n",
       "      <td>No, I don’t use Python for my current projects</td>\n",
       "      <td>NaN</td>\n",
       "      <td>Java</td>\n",
       "      <td>JavaScript</td>\n",
       "      <td>NaN</td>\n",
       "      <td>NaN</td>\n",
       "      <td>NaN</td>\n",
       "      <td>NaN</td>\n",
       "      <td>Bash / Shell</td>\n",
       "      <td>NaN</td>\n",
       "      <td>...</td>\n",
       "      <td>NaN</td>\n",
       "      <td>Data analyst</td>\n",
       "      <td>Business analyst</td>\n",
       "      <td>NaN</td>\n",
       "      <td>NaN</td>\n",
       "      <td>NaN</td>\n",
       "      <td>NaN</td>\n",
       "      <td>NaN</td>\n",
       "      <td>17 or younger</td>\n",
       "      <td>Iceland</td>\n",
       "    </tr>\n",
       "  </tbody>\n",
       "</table>\n",
       "<p>1 rows × 283 columns</p>\n",
       "</div>"
      ],
      "text/plain": [
       "     is python the main language you use for your current projects?  \\\n",
       "1153     No, I don’t use Python for my current projects               \n",
       "\n",
       "     none:what other language(s) do you use?  \\\n",
       "1153                                     NaN   \n",
       "\n",
       "     java:what other language(s) do you use?  \\\n",
       "1153                                    Java   \n",
       "\n",
       "     javascript:what other language(s) do you use?  \\\n",
       "1153                                    JavaScript   \n",
       "\n",
       "     c/c++:what other language(s) do you use?  \\\n",
       "1153                                      NaN   \n",
       "\n",
       "     php:what other language(s) do you use?  \\\n",
       "1153                                    NaN   \n",
       "\n",
       "     c#:what other language(s) do you use?  \\\n",
       "1153                                   NaN   \n",
       "\n",
       "     ruby:what other language(s) do you use?  \\\n",
       "1153                                     NaN   \n",
       "\n",
       "     bash / shell:what other language(s) do you use?  \\\n",
       "1153                                    Bash / Shell   \n",
       "\n",
       "     objective-c:what other language(s) do you use?  \\\n",
       "1153                                            NaN   \n",
       "\n",
       "                 ...               \\\n",
       "1153             ...                \n",
       "\n",
       "     technical support:which of the following best describes your job role(s)?  \\\n",
       "1153                                                NaN                          \n",
       "\n",
       "     data analyst:which of the following best describes your job role(s)?  \\\n",
       "1153                                       Data analyst                     \n",
       "\n",
       "     business analyst:which of the following best describes your job role(s)?  \\\n",
       "1153                                   Business analyst                         \n",
       "\n",
       "     team lead:which of the following best describes your job role(s)?  \\\n",
       "1153                                                NaN                  \n",
       "\n",
       "     product manager:which of the following best describes your job role(s)?  \\\n",
       "1153                                                NaN                        \n",
       "\n",
       "     cio / ceo / cto:which of the following best describes your job role(s)?  \\\n",
       "1153                                                NaN                        \n",
       "\n",
       "     systems analyst:which of the following best describes your job role(s)?  \\\n",
       "1153                                                NaN                        \n",
       "\n",
       "     other  write in::which of the following best describes your job role(s)?  \\\n",
       "1153                                                NaN                         \n",
       "\n",
       "     could you tell us your age range? what country do you live in?  \n",
       "1153                     17 or younger                      Iceland  \n",
       "\n",
       "[1 rows x 283 columns]"
      ]
     },
     "execution_count": 4,
     "metadata": {},
     "output_type": "execute_result"
    }
   ],
   "source": [
    "survey.sample()"
   ]
  },
  {
   "cell_type": "code",
   "execution_count": 5,
   "metadata": {},
   "outputs": [
    {
     "data": {
      "text/plain": [
       "Index(['is python the main language you use for your current projects?',\n",
       "       'none:what other language(s) do you use?',\n",
       "       'java:what other language(s) do you use?',\n",
       "       'javascript:what other language(s) do you use?',\n",
       "       'c/c++:what other language(s) do you use?',\n",
       "       'php:what other language(s) do you use?',\n",
       "       'c#:what other language(s) do you use?',\n",
       "       'ruby:what other language(s) do you use?',\n",
       "       'bash / shell:what other language(s) do you use?',\n",
       "       'objective-c:what other language(s) do you use?',\n",
       "       ...\n",
       "       'technical support:which of the following best describes your job role(s)?',\n",
       "       'data analyst:which of the following best describes your job role(s)?',\n",
       "       'business analyst:which of the following best describes your job role(s)?',\n",
       "       'team lead:which of the following best describes your job role(s)?',\n",
       "       'product manager:which of the following best describes your job role(s)?',\n",
       "       'cio / ceo / cto:which of the following best describes your job role(s)?',\n",
       "       'systems analyst:which of the following best describes your job role(s)?',\n",
       "       'other  write in::which of the following best describes your job role(s)?',\n",
       "       'could you tell us your age range?', 'what country do you live in?'],\n",
       "      dtype='object', length=283)"
      ]
     },
     "execution_count": 5,
     "metadata": {},
     "output_type": "execute_result"
    }
   ],
   "source": [
    "survey.columns"
   ]
  },
  {
   "cell_type": "code",
   "execution_count": 6,
   "metadata": {},
   "outputs": [],
   "source": [
    "def find_cols(kws, df=survey):\n",
    "    '''找到 df 中含有 kws 的列'''\n",
    "    return [item for item in df.columns if all([w in item for w in kws])]"
   ]
  },
  {
   "cell_type": "code",
   "execution_count": 7,
   "metadata": {},
   "outputs": [
    {
     "data": {
      "text/plain": [
       "['which version of python do you use the most?',\n",
       " 'which version of python 2 do you use the most?',\n",
       " 'which version of python 3 do you use the most?',\n",
       " 'i dont update:what do you typically use to upgrade your python version?',\n",
       " 'somebody else manages python updates for me:what do you typically use to upgrade your python version?',\n",
       " 'python.org:what do you typically use to upgrade your python version?',\n",
       " 'build from source:what do you typically use to upgrade your python version?',\n",
       " 'automatic upgrade via cloud provider:what do you typically use to upgrade your python version?',\n",
       " 'enthought:what do you typically use to upgrade your python version?',\n",
       " 'anaconda:what do you typically use to upgrade your python version?',\n",
       " 'activepython:what do you typically use to upgrade your python version?',\n",
       " 'intel distribution for python:what do you typically use to upgrade your python version?',\n",
       " 'os-provided python (via apt-get, yum, homebrew, etc.):what do you typically use to upgrade your python version?',\n",
       " 'pyenv:what do you typically use to upgrade your python version?',\n",
       " 'pythonz:what do you typically use to upgrade your python version?',\n",
       " 'i use docker containers:what do you typically use to upgrade your python version?',\n",
       " 'other  write in::what do you typically use to upgrade your python version?',\n",
       " 'use version control systems:when developing in python, how often do you ?']"
      ]
     },
     "execution_count": 7,
     "metadata": {},
     "output_type": "execute_result"
    }
   ],
   "source": [
    "find_cols(df=survey, kws=['python', 'version'])"
   ]
  },
  {
   "cell_type": "markdown",
   "metadata": {
    "toc-hr-collapsed": false
   },
   "source": [
    "## 2018 年的问题\n",
    "\n",
    "- 使用 Python 2 和 Python 3 的开发者的比例？\n",
    "- 做数据分析和机器学习的人中分别有多少人使用的是 Python 3？\n",
    "- 常用框架中使用 Python 2 和 Python 3 的比例？\n",
    "- 做数据分析和机器学习的人常用的框架？\n",
    "- 公司规模大小和是否使用 Python 3 的关系？\n",
    "- 开发者年龄和是否使用 Python 3 的关系？\n",
    "- 使用 Python 3 和 Python 2 的开发者的国别分布？\n",
    "- 开发者中使用 IDE 的情况？"
   ]
  },
  {
   "cell_type": "markdown",
   "metadata": {},
   "source": [
    "### 使用 Python 2 和 Python 3 的开发者比例"
   ]
  },
  {
   "cell_type": "code",
   "execution_count": 8,
   "metadata": {},
   "outputs": [
    {
     "data": {
      "text/plain": [
       "count        18431\n",
       "unique           2\n",
       "top       Python 3\n",
       "freq         15446\n",
       "Name: which version of python do you use the most?, dtype: object"
      ]
     },
     "execution_count": 8,
     "metadata": {},
     "output_type": "execute_result"
    }
   ],
   "source": [
    "python_version = survey['which version of python do you use the most?']\n",
    "python_version.describe()"
   ]
  },
  {
   "cell_type": "code",
   "execution_count": 9,
   "metadata": {},
   "outputs": [
    {
     "data": {
      "text/plain": [
       "Python 3    0.778724\n",
       "Python 2    0.150492\n",
       "NaN         0.070784\n",
       "Name: which version of python do you use the most?, dtype: float64"
      ]
     },
     "execution_count": 9,
     "metadata": {},
     "output_type": "execute_result"
    }
   ],
   "source": [
    "python_version.value_counts(normalize=True, dropna=False)"
   ]
  },
  {
   "cell_type": "code",
   "execution_count": 10,
   "metadata": {},
   "outputs": [
    {
     "data": {
      "text/plain": [
       "Python 3    0.838045\n",
       "Python 2    0.161955\n",
       "Name: which version of python do you use the most?, dtype: float64"
      ]
     },
     "execution_count": 10,
     "metadata": {},
     "output_type": "execute_result"
    }
   ],
   "source": [
    "python_version.value_counts(normalize=True, dropna=True)"
   ]
  },
  {
   "cell_type": "code",
   "execution_count": 11,
   "metadata": {},
   "outputs": [
    {
     "data": {
      "image/png": "[encoded data removed]",
      "text/plain": [
       "<Figure size 360x360 with 1 Axes>"
      ]
     },
     "metadata": {},
     "output_type": "display_data"
    }
   ],
   "source": [
    "python_version.value_counts(normalize=True, dropna=True).plot(\n",
    "    kind=\"pie\",\n",
    "    figsize=(5, 5),\n",
    "    startangle=90,\n",
    "    autopct=\"%.0f%%\",\n",
    "    fontsize=14,\n",
    "    colors=sns.color_palette(\"rainbow\")[:2],\n",
    ")\n",
    "plt.title(\"Python 2 VS Python 3\", fontsize=18)\n",
    "plt.ylabel(\"\")\n",
    "plt.tight_layout()\n",
    "plt.savefig(\"python-version.png\")"
   ]
  },
  {
   "cell_type": "markdown",
   "metadata": {},
   "source": [
    "Python 3 的比重已经达到了 84% ！去年还是才 75%。"
   ]
  },
  {
   "cell_type": "markdown",
   "metadata": {},
   "source": [
    "### 做数据分析和机器学习的人中分别有多少人使用的是 Python 3"
   ]
  },
  {
   "cell_type": "code",
   "execution_count": 12,
   "metadata": {},
   "outputs": [
    {
     "data": {
      "text/plain": [
       "['machine learning:what do you use python for?',\n",
       " 'machine learning:to what extent are you involvedin the following activities?']"
      ]
     },
     "execution_count": 12,
     "metadata": {},
     "output_type": "execute_result"
    }
   ],
   "source": [
    "find_cols(['machine learning'])"
   ]
  },
  {
   "cell_type": "code",
   "execution_count": 13,
   "metadata": {},
   "outputs": [
    {
     "data": {
      "text/plain": [
       "['data analysis:what do you use python for?',\n",
       " 'data analysis:to what extent are you involvedin the following activities?']"
      ]
     },
     "execution_count": 13,
     "metadata": {},
     "output_type": "execute_result"
    }
   ],
   "source": [
    "find_cols(['data analysis'])"
   ]
  },
  {
   "cell_type": "code",
   "execution_count": 14,
   "metadata": {},
   "outputs": [],
   "source": [
    "version_col = 'which version of python do you use the most?'"
   ]
  },
  {
   "cell_type": "code",
   "execution_count": 15,
   "metadata": {},
   "outputs": [],
   "source": [
    "python_da_ml = survey[\n",
    "    [\n",
    "        version_col,\n",
    "        \"machine learning:what do you use python for?\",\n",
    "        \"data analysis:what do you use python for?\",\n",
    "    ]\n",
    "]"
   ]
  },
  {
   "cell_type": "code",
   "execution_count": 19,
   "metadata": {},
   "outputs": [
    {
     "data": {
      "text/html": [
       "<div>\n",
       "<style scoped>\n",
       "    .dataframe tbody tr th:only-of-type {\n",
       "        vertical-align: middle;\n",
       "    }\n",
       "\n",
       "    .dataframe tbody tr th {\n",
       "        vertical-align: top;\n",
       "    }\n",
       "\n",
       "    .dataframe thead th {\n",
       "        text-align: right;\n",
       "    }\n",
       "</style>\n",
       "<table border=\"1\" class=\"dataframe\">\n",
       "  <thead>\n",
       "    <tr style=\"text-align: right;\">\n",
       "      <th></th>\n",
       "      <th>which version of python do you use the most?</th>\n",
       "      <th>machine learning:what do you use python for?</th>\n",
       "      <th>data analysis:what do you use python for?</th>\n",
       "    </tr>\n",
       "  </thead>\n",
       "  <tbody>\n",
       "    <tr>\n",
       "      <th>0</th>\n",
       "      <td>NaN</td>\n",
       "      <td>NaN</td>\n",
       "      <td>NaN</td>\n",
       "    </tr>\n",
       "    <tr>\n",
       "      <th>1</th>\n",
       "      <td>NaN</td>\n",
       "      <td>NaN</td>\n",
       "      <td>NaN</td>\n",
       "    </tr>\n",
       "    <tr>\n",
       "      <th>2</th>\n",
       "      <td>NaN</td>\n",
       "      <td>NaN</td>\n",
       "      <td>NaN</td>\n",
       "    </tr>\n",
       "    <tr>\n",
       "      <th>3</th>\n",
       "      <td>NaN</td>\n",
       "      <td>NaN</td>\n",
       "      <td>NaN</td>\n",
       "    </tr>\n",
       "    <tr>\n",
       "      <th>4</th>\n",
       "      <td>NaN</td>\n",
       "      <td>NaN</td>\n",
       "      <td>NaN</td>\n",
       "    </tr>\n",
       "  </tbody>\n",
       "</table>\n",
       "</div>"
      ],
      "text/plain": [
       "  which version of python do you use the most?  \\\n",
       "0                                          NaN   \n",
       "1                                          NaN   \n",
       "2                                          NaN   \n",
       "3                                          NaN   \n",
       "4                                          NaN   \n",
       "\n",
       "  machine learning:what do you use python for?  \\\n",
       "0                                          NaN   \n",
       "1                                          NaN   \n",
       "2                                          NaN   \n",
       "3                                          NaN   \n",
       "4                                          NaN   \n",
       "\n",
       "  data analysis:what do you use python for?  \n",
       "0                                       NaN  \n",
       "1                                       NaN  \n",
       "2                                       NaN  \n",
       "3                                       NaN  \n",
       "4                                       NaN  "
      ]
     },
     "execution_count": 19,
     "metadata": {},
     "output_type": "execute_result"
    }
   ],
   "source": [
    "python_da_ml.head()"
   ]
  },
  {
   "cell_type": "code",
   "execution_count": 20,
   "metadata": {},
   "outputs": [],
   "source": [
    "python_da = pd.crosstab(\n",
    "    python_da_ml[version_col],\n",
    "    python_da_ml[\"data analysis:what do you use python for?\"],\n",
    "    normalize=True,\n",
    ")"
   ]
  },
  {
   "cell_type": "code",
   "execution_count": 21,
   "metadata": {},
   "outputs": [
    {
     "data": {
      "text/html": [
       "<div>\n",
       "<style scoped>\n",
       "    .dataframe tbody tr th:only-of-type {\n",
       "        vertical-align: middle;\n",
       "    }\n",
       "\n",
       "    .dataframe tbody tr th {\n",
       "        vertical-align: top;\n",
       "    }\n",
       "\n",
       "    .dataframe thead th {\n",
       "        text-align: right;\n",
       "    }\n",
       "</style>\n",
       "<table border=\"1\" class=\"dataframe\">\n",
       "  <thead>\n",
       "    <tr style=\"text-align: right;\">\n",
       "      <th>data analysis:what do you use python for?</th>\n",
       "      <th>Data analysis</th>\n",
       "    </tr>\n",
       "    <tr>\n",
       "      <th>which version of python do you use the most?</th>\n",
       "      <th></th>\n",
       "    </tr>\n",
       "  </thead>\n",
       "  <tbody>\n",
       "    <tr>\n",
       "      <th>Python 2</th>\n",
       "      <td>0.140556</td>\n",
       "    </tr>\n",
       "    <tr>\n",
       "      <th>Python 3</th>\n",
       "      <td>0.859444</td>\n",
       "    </tr>\n",
       "  </tbody>\n",
       "</table>\n",
       "</div>"
      ],
      "text/plain": [
       "data analysis:what do you use python for?     Data analysis\n",
       "which version of python do you use the most?               \n",
       "Python 2                                           0.140556\n",
       "Python 3                                           0.859444"
      ]
     },
     "execution_count": 21,
     "metadata": {},
     "output_type": "execute_result"
    }
   ],
   "source": [
    "python_da"
   ]
  },
  {
   "cell_type": "code",
   "execution_count": 28,
   "metadata": {},
   "outputs": [],
   "source": [
    "python_ml = pd.crosstab(\n",
    "    python_da_ml[version_col],\n",
    "    python_da_ml[\"machine learning:what do you use python for?\"],\n",
    "    normalize=True,\n",
    ")"
   ]
  },
  {
   "cell_type": "code",
   "execution_count": 29,
   "metadata": {},
   "outputs": [
    {
     "data": {
      "text/html": [
       "<div>\n",
       "<style scoped>\n",
       "    .dataframe tbody tr th:only-of-type {\n",
       "        vertical-align: middle;\n",
       "    }\n",
       "\n",
       "    .dataframe tbody tr th {\n",
       "        vertical-align: top;\n",
       "    }\n",
       "\n",
       "    .dataframe thead th {\n",
       "        text-align: right;\n",
       "    }\n",
       "</style>\n",
       "<table border=\"1\" class=\"dataframe\">\n",
       "  <thead>\n",
       "    <tr style=\"text-align: right;\">\n",
       "      <th>machine learning:what do you use python for?</th>\n",
       "      <th>Machine learning</th>\n",
       "    </tr>\n",
       "    <tr>\n",
       "      <th>which version of python do you use the most?</th>\n",
       "      <th></th>\n",
       "    </tr>\n",
       "  </thead>\n",
       "  <tbody>\n",
       "    <tr>\n",
       "      <th>Python 2</th>\n",
       "      <td>0.109697</td>\n",
       "    </tr>\n",
       "    <tr>\n",
       "      <th>Python 3</th>\n",
       "      <td>0.890303</td>\n",
       "    </tr>\n",
       "  </tbody>\n",
       "</table>\n",
       "</div>"
      ],
      "text/plain": [
       "machine learning:what do you use python for?  Machine learning\n",
       "which version of python do you use the most?                  \n",
       "Python 2                                              0.109697\n",
       "Python 3                                              0.890303"
      ]
     },
     "execution_count": 29,
     "metadata": {},
     "output_type": "execute_result"
    }
   ],
   "source": [
    "python_ml"
   ]
  },
  {
   "cell_type": "code",
   "execution_count": 32,
   "metadata": {},
   "outputs": [
    {
     "data": {
      "text/html": [
       "<div>\n",
       "<style scoped>\n",
       "    .dataframe tbody tr th:only-of-type {\n",
       "        vertical-align: middle;\n",
       "    }\n",
       "\n",
       "    .dataframe tbody tr th {\n",
       "        vertical-align: top;\n",
       "    }\n",
       "\n",
       "    .dataframe thead tr th {\n",
       "        text-align: left;\n",
       "    }\n",
       "\n",
       "    .dataframe thead tr:last-of-type th {\n",
       "        text-align: right;\n",
       "    }\n",
       "</style>\n",
       "<table border=\"1\" class=\"dataframe\">\n",
       "  <thead>\n",
       "    <tr>\n",
       "      <th>machine learning:what do you use python for?</th>\n",
       "      <th>Machine learning</th>\n",
       "    </tr>\n",
       "    <tr>\n",
       "      <th>data analysis:what do you use python for?</th>\n",
       "      <th>Data analysis</th>\n",
       "    </tr>\n",
       "    <tr>\n",
       "      <th>which version of python do you use the most?</th>\n",
       "      <th></th>\n",
       "    </tr>\n",
       "  </thead>\n",
       "  <tbody>\n",
       "    <tr>\n",
       "      <th>Python 2</th>\n",
       "      <td>0.103596</td>\n",
       "    </tr>\n",
       "    <tr>\n",
       "      <th>Python 3</th>\n",
       "      <td>0.896404</td>\n",
       "    </tr>\n",
       "  </tbody>\n",
       "</table>\n",
       "</div>"
      ],
      "text/plain": [
       "machine learning:what do you use python for? Machine learning\n",
       "data analysis:what do you use python for?       Data analysis\n",
       "which version of python do you use the most?                 \n",
       "Python 2                                             0.103596\n",
       "Python 3                                             0.896404"
      ]
     },
     "execution_count": 32,
     "metadata": {},
     "output_type": "execute_result"
    }
   ],
   "source": [
    "pd.crosstab(\n",
    "    python_da_ml[version_col],\n",
    "    columns=[python_da_ml[\"machine learning:what do you use python for?\"], python_da_ml[\"data analysis:what do you use python for?\"]],\n",
    "    normalize=True,\n",
    ")"
   ]
  },
  {
   "cell_type": "code",
   "execution_count": 35,
   "metadata": {},
   "outputs": [
    {
     "data": {
      "text/html": [
       "<div>\n",
       "<style scoped>\n",
       "    .dataframe tbody tr th:only-of-type {\n",
       "        vertical-align: middle;\n",
       "    }\n",
       "\n",
       "    .dataframe tbody tr th {\n",
       "        vertical-align: top;\n",
       "    }\n",
       "\n",
       "    .dataframe thead th {\n",
       "        text-align: right;\n",
       "    }\n",
       "</style>\n",
       "<table border=\"1\" class=\"dataframe\">\n",
       "  <thead>\n",
       "    <tr style=\"text-align: right;\">\n",
       "      <th></th>\n",
       "      <th>Data analysis</th>\n",
       "      <th>Machine learning</th>\n",
       "    </tr>\n",
       "    <tr>\n",
       "      <th>which version of python do you use the most?</th>\n",
       "      <th></th>\n",
       "      <th></th>\n",
       "    </tr>\n",
       "  </thead>\n",
       "  <tbody>\n",
       "    <tr>\n",
       "      <th>Python 2</th>\n",
       "      <td>0.140556</td>\n",
       "      <td>0.109697</td>\n",
       "    </tr>\n",
       "    <tr>\n",
       "      <th>Python 3</th>\n",
       "      <td>0.859444</td>\n",
       "      <td>0.890303</td>\n",
       "    </tr>\n",
       "  </tbody>\n",
       "</table>\n",
       "</div>"
      ],
      "text/plain": [
       "                                              Data analysis  Machine learning\n",
       "which version of python do you use the most?                                 \n",
       "Python 2                                           0.140556          0.109697\n",
       "Python 3                                           0.859444          0.890303"
      ]
     },
     "execution_count": 35,
     "metadata": {},
     "output_type": "execute_result"
    }
   ],
   "source": [
    "pd.concat([python_da, python_ml], axis=1)"
   ]
  },
  {
   "cell_type": "code",
   "execution_count": 38,
   "metadata": {},
   "outputs": [
    {
     "data": {
      "image/png": "[encoded data removed]",
      "text/plain": [
       "<Figure size 720x360 with 1 Axes>"
      ]
     },
     "metadata": {},
     "output_type": "display_data"
    }
   ],
   "source": [
    "pd.concat([python_da, python_ml], axis=1).T.plot(kind='bar', figsize=(10, 5), color=sns.color_palette('rainbow'))\n",
    "plt.xticks(rotation=0, fontsize=14)\n",
    "plt.title('Data Analysis and Machine Learning VS Python version', fontsize=18)\n",
    "plt.legend(title=None)\n",
    "plt.tight_layout()\n",
    "plt.savefig('data-analysis-machine-learning-vs-python-version.png')"
   ]
  },
  {
   "cell_type": "markdown",
   "metadata": {},
   "source": [
    "这两类人群中使用 Python 的比例相比去年都有来了很大的提高，其中数据分析更是达到了 10%。"
   ]
  },
  {
   "cell_type": "markdown",
   "metadata": {},
   "source": [
    "### 常用框架中使用 Python 2 和 Python 3 的比例？"
   ]
  },
  {
   "cell_type": "code",
   "execution_count": 47,
   "metadata": {},
   "outputs": [
    {
     "data": {
      "text/plain": [
       "['none:what web frameworks / libraries do you use in addition to python?',\n",
       " 'django:what web frameworks / libraries do you use in addition to python?',\n",
       " 'turbogears:what web frameworks / libraries do you use in addition to python?',\n",
       " 'web2py:what web frameworks / libraries do you use in addition to python?',\n",
       " 'bottle:what web frameworks / libraries do you use in addition to python?',\n",
       " 'cherrypy:what web frameworks / libraries do you use in addition to python?',\n",
       " 'flask:what web frameworks / libraries do you use in addition to python?',\n",
       " 'hug:what web frameworks / libraries do you use in addition to python?',\n",
       " 'pyramid:what web frameworks / libraries do you use in addition to python?',\n",
       " 'tornado:what web frameworks / libraries do you use in addition to python?',\n",
       " 'falcon:what web frameworks / libraries do you use in addition to python?',\n",
       " 'other  write in::what web frameworks / libraries do you use in addition to python?',\n",
       " 'none:what data science framework(s) do you use in addition to python?',\n",
       " 'numpy:what data science framework(s) do you use in addition to python?',\n",
       " 'scipy:what data science framework(s) do you use in addition to python?',\n",
       " 'pandas:what data science framework(s) do you use in addition to python?',\n",
       " 'matplotlib:what data science framework(s) do you use in addition to python?',\n",
       " 'seaborn:what data science framework(s) do you use in addition to python?',\n",
       " 'scikit-learn:what data science framework(s) do you use in addition to python?',\n",
       " 'keras:what data science framework(s) do you use in addition to python?',\n",
       " 'tensorflow:what data science framework(s) do you use in addition to python?',\n",
       " 'theano:what data science framework(s) do you use in addition to python?',\n",
       " 'nltk:what data science framework(s) do you use in addition to python?',\n",
       " 'gensim:what data science framework(s) do you use in addition to python?',\n",
       " 'other - write in::what data science framework(s) do you use in addition to python?']"
      ]
     },
     "execution_count": 47,
     "metadata": {},
     "output_type": "execute_result"
    }
   ],
   "source": [
    "cols = find_cols(['what', 'framework', 'use', 'python'])\n",
    "cols"
   ]
  },
  {
   "cell_type": "code",
   "execution_count": 48,
   "metadata": {},
   "outputs": [
    {
     "data": {
      "text/html": [
       "<div>\n",
       "<style scoped>\n",
       "    .dataframe tbody tr th:only-of-type {\n",
       "        vertical-align: middle;\n",
       "    }\n",
       "\n",
       "    .dataframe tbody tr th {\n",
       "        vertical-align: top;\n",
       "    }\n",
       "\n",
       "    .dataframe thead th {\n",
       "        text-align: right;\n",
       "    }\n",
       "</style>\n",
       "<table border=\"1\" class=\"dataframe\">\n",
       "  <thead>\n",
       "    <tr style=\"text-align: right;\">\n",
       "      <th></th>\n",
       "      <th>django:what web frameworks / libraries do you use in addition to python?</th>\n",
       "      <th>turbogears:what web frameworks / libraries do you use in addition to python?</th>\n",
       "      <th>web2py:what web frameworks / libraries do you use in addition to python?</th>\n",
       "      <th>bottle:what web frameworks / libraries do you use in addition to python?</th>\n",
       "      <th>cherrypy:what web frameworks / libraries do you use in addition to python?</th>\n",
       "      <th>flask:what web frameworks / libraries do you use in addition to python?</th>\n",
       "      <th>hug:what web frameworks / libraries do you use in addition to python?</th>\n",
       "      <th>pyramid:what web frameworks / libraries do you use in addition to python?</th>\n",
       "      <th>tornado:what web frameworks / libraries do you use in addition to python?</th>\n",
       "      <th>falcon:what web frameworks / libraries do you use in addition to python?</th>\n",
       "      <th>...</th>\n",
       "      <th>pandas:what data science framework(s) do you use in addition to python?</th>\n",
       "      <th>matplotlib:what data science framework(s) do you use in addition to python?</th>\n",
       "      <th>seaborn:what data science framework(s) do you use in addition to python?</th>\n",
       "      <th>scikit-learn:what data science framework(s) do you use in addition to python?</th>\n",
       "      <th>keras:what data science framework(s) do you use in addition to python?</th>\n",
       "      <th>tensorflow:what data science framework(s) do you use in addition to python?</th>\n",
       "      <th>theano:what data science framework(s) do you use in addition to python?</th>\n",
       "      <th>nltk:what data science framework(s) do you use in addition to python?</th>\n",
       "      <th>gensim:what data science framework(s) do you use in addition to python?</th>\n",
       "      <th>other - write in::what data science framework(s) do you use in addition to python?</th>\n",
       "    </tr>\n",
       "  </thead>\n",
       "  <tbody>\n",
       "    <tr>\n",
       "      <th>0</th>\n",
       "      <td>NaN</td>\n",
       "      <td>NaN</td>\n",
       "      <td>NaN</td>\n",
       "      <td>NaN</td>\n",
       "      <td>NaN</td>\n",
       "      <td>NaN</td>\n",
       "      <td>NaN</td>\n",
       "      <td>NaN</td>\n",
       "      <td>NaN</td>\n",
       "      <td>NaN</td>\n",
       "      <td>...</td>\n",
       "      <td>NaN</td>\n",
       "      <td>NaN</td>\n",
       "      <td>NaN</td>\n",
       "      <td>NaN</td>\n",
       "      <td>NaN</td>\n",
       "      <td>NaN</td>\n",
       "      <td>NaN</td>\n",
       "      <td>NaN</td>\n",
       "      <td>NaN</td>\n",
       "      <td>NaN</td>\n",
       "    </tr>\n",
       "    <tr>\n",
       "      <th>1</th>\n",
       "      <td>NaN</td>\n",
       "      <td>NaN</td>\n",
       "      <td>NaN</td>\n",
       "      <td>NaN</td>\n",
       "      <td>NaN</td>\n",
       "      <td>NaN</td>\n",
       "      <td>NaN</td>\n",
       "      <td>NaN</td>\n",
       "      <td>NaN</td>\n",
       "      <td>NaN</td>\n",
       "      <td>...</td>\n",
       "      <td>NaN</td>\n",
       "      <td>NaN</td>\n",
       "      <td>NaN</td>\n",
       "      <td>NaN</td>\n",
       "      <td>NaN</td>\n",
       "      <td>NaN</td>\n",
       "      <td>NaN</td>\n",
       "      <td>NaN</td>\n",
       "      <td>NaN</td>\n",
       "      <td>NaN</td>\n",
       "    </tr>\n",
       "    <tr>\n",
       "      <th>2</th>\n",
       "      <td>NaN</td>\n",
       "      <td>NaN</td>\n",
       "      <td>NaN</td>\n",
       "      <td>NaN</td>\n",
       "      <td>NaN</td>\n",
       "      <td>NaN</td>\n",
       "      <td>NaN</td>\n",
       "      <td>NaN</td>\n",
       "      <td>NaN</td>\n",
       "      <td>NaN</td>\n",
       "      <td>...</td>\n",
       "      <td>NaN</td>\n",
       "      <td>NaN</td>\n",
       "      <td>NaN</td>\n",
       "      <td>NaN</td>\n",
       "      <td>NaN</td>\n",
       "      <td>NaN</td>\n",
       "      <td>NaN</td>\n",
       "      <td>NaN</td>\n",
       "      <td>NaN</td>\n",
       "      <td>NaN</td>\n",
       "    </tr>\n",
       "    <tr>\n",
       "      <th>3</th>\n",
       "      <td>NaN</td>\n",
       "      <td>NaN</td>\n",
       "      <td>NaN</td>\n",
       "      <td>NaN</td>\n",
       "      <td>NaN</td>\n",
       "      <td>NaN</td>\n",
       "      <td>NaN</td>\n",
       "      <td>NaN</td>\n",
       "      <td>NaN</td>\n",
       "      <td>NaN</td>\n",
       "      <td>...</td>\n",
       "      <td>NaN</td>\n",
       "      <td>NaN</td>\n",
       "      <td>NaN</td>\n",
       "      <td>NaN</td>\n",
       "      <td>NaN</td>\n",
       "      <td>NaN</td>\n",
       "      <td>NaN</td>\n",
       "      <td>NaN</td>\n",
       "      <td>NaN</td>\n",
       "      <td>NaN</td>\n",
       "    </tr>\n",
       "    <tr>\n",
       "      <th>4</th>\n",
       "      <td>NaN</td>\n",
       "      <td>NaN</td>\n",
       "      <td>NaN</td>\n",
       "      <td>NaN</td>\n",
       "      <td>NaN</td>\n",
       "      <td>NaN</td>\n",
       "      <td>NaN</td>\n",
       "      <td>NaN</td>\n",
       "      <td>NaN</td>\n",
       "      <td>NaN</td>\n",
       "      <td>...</td>\n",
       "      <td>NaN</td>\n",
       "      <td>NaN</td>\n",
       "      <td>NaN</td>\n",
       "      <td>NaN</td>\n",
       "      <td>NaN</td>\n",
       "      <td>NaN</td>\n",
       "      <td>NaN</td>\n",
       "      <td>NaN</td>\n",
       "      <td>NaN</td>\n",
       "      <td>NaN</td>\n",
       "    </tr>\n",
       "  </tbody>\n",
       "</table>\n",
       "<p>5 rows × 24 columns</p>\n",
       "</div>"
      ],
      "text/plain": [
       "  django:what web frameworks / libraries do you use in addition to python?  \\\n",
       "0                                                NaN                         \n",
       "1                                                NaN                         \n",
       "2                                                NaN                         \n",
       "3                                                NaN                         \n",
       "4                                                NaN                         \n",
       "\n",
       "  turbogears:what web frameworks / libraries do you use in addition to python?  \\\n",
       "0                                                NaN                             \n",
       "1                                                NaN                             \n",
       "2                                                NaN                             \n",
       "3                                                NaN                             \n",
       "4                                                NaN                             \n",
       "\n",
       "  web2py:what web frameworks / libraries do you use in addition to python?  \\\n",
       "0                                                NaN                         \n",
       "1                                                NaN                         \n",
       "2                                                NaN                         \n",
       "3                                                NaN                         \n",
       "4                                                NaN                         \n",
       "\n",
       "  bottle:what web frameworks / libraries do you use in addition to python?  \\\n",
       "0                                                NaN                         \n",
       "1                                                NaN                         \n",
       "2                                                NaN                         \n",
       "3                                                NaN                         \n",
       "4                                                NaN                         \n",
       "\n",
       "  cherrypy:what web frameworks / libraries do you use in addition to python?  \\\n",
       "0                                                NaN                           \n",
       "1                                                NaN                           \n",
       "2                                                NaN                           \n",
       "3                                                NaN                           \n",
       "4                                                NaN                           \n",
       "\n",
       "  flask:what web frameworks / libraries do you use in addition to python?  \\\n",
       "0                                                NaN                        \n",
       "1                                                NaN                        \n",
       "2                                                NaN                        \n",
       "3                                                NaN                        \n",
       "4                                                NaN                        \n",
       "\n",
       "  hug:what web frameworks / libraries do you use in addition to python?  \\\n",
       "0                                                NaN                      \n",
       "1                                                NaN                      \n",
       "2                                                NaN                      \n",
       "3                                                NaN                      \n",
       "4                                                NaN                      \n",
       "\n",
       "  pyramid:what web frameworks / libraries do you use in addition to python?  \\\n",
       "0                                                NaN                          \n",
       "1                                                NaN                          \n",
       "2                                                NaN                          \n",
       "3                                                NaN                          \n",
       "4                                                NaN                          \n",
       "\n",
       "  tornado:what web frameworks / libraries do you use in addition to python?  \\\n",
       "0                                                NaN                          \n",
       "1                                                NaN                          \n",
       "2                                                NaN                          \n",
       "3                                                NaN                          \n",
       "4                                                NaN                          \n",
       "\n",
       "  falcon:what web frameworks / libraries do you use in addition to python?  \\\n",
       "0                                                NaN                         \n",
       "1                                                NaN                         \n",
       "2                                                NaN                         \n",
       "3                                                NaN                         \n",
       "4                                                NaN                         \n",
       "\n",
       "                                         ...                                          \\\n",
       "0                                        ...                                           \n",
       "1                                        ...                                           \n",
       "2                                        ...                                           \n",
       "3                                        ...                                           \n",
       "4                                        ...                                           \n",
       "\n",
       "  pandas:what data science framework(s) do you use in addition to python?  \\\n",
       "0                                                NaN                        \n",
       "1                                                NaN                        \n",
       "2                                                NaN                        \n",
       "3                                                NaN                        \n",
       "4                                                NaN                        \n",
       "\n",
       "  matplotlib:what data science framework(s) do you use in addition to python?  \\\n",
       "0                                                NaN                            \n",
       "1                                                NaN                            \n",
       "2                                                NaN                            \n",
       "3                                                NaN                            \n",
       "4                                                NaN                            \n",
       "\n",
       "  seaborn:what data science framework(s) do you use in addition to python?  \\\n",
       "0                                                NaN                         \n",
       "1                                                NaN                         \n",
       "2                                                NaN                         \n",
       "3                                                NaN                         \n",
       "4                                                NaN                         \n",
       "\n",
       "  scikit-learn:what data science framework(s) do you use in addition to python?  \\\n",
       "0                                                NaN                              \n",
       "1                                                NaN                              \n",
       "2                                                NaN                              \n",
       "3                                                NaN                              \n",
       "4                                                NaN                              \n",
       "\n",
       "  keras:what data science framework(s) do you use in addition to python?  \\\n",
       "0                                                NaN                       \n",
       "1                                                NaN                       \n",
       "2                                                NaN                       \n",
       "3                                                NaN                       \n",
       "4                                                NaN                       \n",
       "\n",
       "  tensorflow:what data science framework(s) do you use in addition to python?  \\\n",
       "0                                                NaN                            \n",
       "1                                                NaN                            \n",
       "2                                                NaN                            \n",
       "3                                                NaN                            \n",
       "4                                                NaN                            \n",
       "\n",
       "  theano:what data science framework(s) do you use in addition to python?  \\\n",
       "0                                                NaN                        \n",
       "1                                                NaN                        \n",
       "2                                                NaN                        \n",
       "3                                                NaN                        \n",
       "4                                                NaN                        \n",
       "\n",
       "  nltk:what data science framework(s) do you use in addition to python?  \\\n",
       "0                                                NaN                      \n",
       "1                                                NaN                      \n",
       "2                                                NaN                      \n",
       "3                                                NaN                      \n",
       "4                                                NaN                      \n",
       "\n",
       "  gensim:what data science framework(s) do you use in addition to python?  \\\n",
       "0                                                NaN                        \n",
       "1                                                NaN                        \n",
       "2                                                NaN                        \n",
       "3                                                NaN                        \n",
       "4                                                NaN                        \n",
       "\n",
       "  other - write in::what data science framework(s) do you use in addition to python?  \n",
       "0                                                NaN                                  \n",
       "1                                                NaN                                  \n",
       "2                                                NaN                                  \n",
       "3                                                NaN                                  \n",
       "4                                                NaN                                  \n",
       "\n",
       "[5 rows x 24 columns]"
      ]
     },
     "execution_count": 48,
     "metadata": {},
     "output_type": "execute_result"
    }
   ],
   "source": [
    "frameworks = survey[cols[1:]]\n",
    "frameworks.head()"
   ]
  },
  {
   "cell_type": "code",
   "execution_count": 51,
   "metadata": {},
   "outputs": [
    {
     "data": {
      "image/png": "[encoded data removed]",
      "text/plain": [
       "<Figure size 1440x432 with 1 Axes>"
      ]
     },
     "metadata": {},
     "output_type": "display_data"
    }
   ],
   "source": [
    "count_df = frameworks.count().sort_values(ascending=False)\n",
    "count_df.index = [item.split(':')[0] for item in count_df.index]\n",
    "\n",
    "count_df.plot(kind='bar', color=sns.color_palette('rainbow', frameworks.shape[1]))\n",
    "plt.xticks(fontsize=14);"
   ]
  },
  {
   "cell_type": "code",
   "execution_count": 54,
   "metadata": {},
   "outputs": [
    {
     "data": {
      "text/plain": [
       "numpy:what data science framework(s) do you use in addition to python?                11384\n",
       "pandas:what data science framework(s) do you use in addition to python?                9314\n",
       "flask:what web frameworks / libraries do you use in addition to python?                8615\n",
       "matplotlib:what data science framework(s) do you use in addition to python?            8434\n",
       "django:what web frameworks / libraries do you use in addition to python?               8354\n",
       "scipy:what data science framework(s) do you use in addition to python?                 6989\n",
       "scikit-learn:what data science framework(s) do you use in addition to python?          5787\n",
       "none:what data science framework(s) do you use in addition to python?                  5018\n",
       "tensorflow:what data science framework(s) do you use in addition to python?            4653\n",
       "keras:what data science framework(s) do you use in addition to python?                 2776\n",
       "seaborn:what data science framework(s) do you use in addition to python?               2713\n",
       "nltk:what data science framework(s) do you use in addition to python?                  2413\n",
       "other  write in::what web frameworks / libraries do you use in addition to python?     1172\n",
       "tornado:what web frameworks / libraries do you use in addition to python?              1080\n",
       "other - write in::what data science framework(s) do you use in addition to python?      909\n",
       "gensim:what data science framework(s) do you use in addition to python?                 760\n",
       "pyramid:what web frameworks / libraries do you use in addition to python?               720\n",
       "web2py:what web frameworks / libraries do you use in addition to python?                693\n",
       "bottle:what web frameworks / libraries do you use in addition to python?                684\n",
       "theano:what data science framework(s) do you use in addition to python?                 557\n",
       "cherrypy:what web frameworks / libraries do you use in addition to python?              543\n",
       "falcon:what web frameworks / libraries do you use in addition to python?                456\n",
       "hug:what web frameworks / libraries do you use in addition to python?                   159\n",
       "turbogears:what web frameworks / libraries do you use in addition to python?            105\n",
       "dtype: int64"
      ]
     },
     "execution_count": 54,
     "metadata": {},
     "output_type": "execute_result"
    }
   ],
   "source": [
    "frameworks.count().sort_values(ascending=False)"
   ]
  },
  {
   "cell_type": "code",
   "execution_count": 52,
   "metadata": {},
   "outputs": [
    {
     "data": {
      "image/png": "[encoded data removed]",
      "text/plain": [
       "<Figure size 1440x1224 with 1 Axes>"
      ]
     },
     "metadata": {},
     "output_type": "display_data"
    }
   ],
   "source": [
    "values = frameworks.count().sort_values(ascending=False).values\n",
    "labels = [item.split(':')[0] for item in frameworks.count().sort_values(ascending=False).index]\n",
    "\n",
    "plt.figure(figsize=(20, 17))\n",
    "sns.barplot(x=values, y=labels, orient='h', palette=sns.color_palette(\"rainbow\", 24))\n",
    "plt.xticks(fontsize=14)\n",
    "plt.yticks(fontsize=18)\n",
    "plt.tight_layout()\n",
    "plt.savefig('frameworks.png')"
   ]
  },
  {
   "cell_type": "code",
   "execution_count": null,
   "metadata": {},
   "outputs": [],
   "source": []
  }
 ],
 "metadata": {
  "kernelspec": {
   "display_name": "Python 3",
   "language": "python",
   "name": "python3"
  },
  "language_info": {
   "codemirror_mode": {
    "name": "ipython",
    "version": 3
   },
   "file_extension": ".py",
   "mimetype": "text/x-python",
   "name": "python",
   "nbconvert_exporter": "python",
   "pygments_lexer": "ipython3",
   "version": "3.6.5"
  },
  "toc-autonumbering": false,
  "toc-showcode": false,
  "toc-showmarkdowntxt": false,
  "toc-showtags": false
 },
 "nbformat": 4,
 "nbformat_minor": 2
}
