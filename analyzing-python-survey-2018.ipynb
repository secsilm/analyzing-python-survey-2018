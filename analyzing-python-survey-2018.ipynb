{
 "cells": [
  {
   "cell_type": "code",
   "execution_count": 3,
   "metadata": {},
   "outputs": [],
   "source": [
    "import pandas as pd\n",
    "import numpy as np\n",
    "import seaborn as sns\n",
    "import matplotlib.pyplot as plt\n",
    "%matplotlib inline"
   ]
  },
  {
   "cell_type": "code",
   "execution_count": 14,
   "metadata": {},
   "outputs": [
    {
     "name": "stderr",
     "output_type": "stream",
     "text": [
      "C:\\Users\\secsi\\Anaconda3\\lib\\site-packages\\IPython\\core\\interactiveshell.py:2785: DtypeWarning: Columns (168,197) have mixed types. Specify dtype option on import or set low_memory=False.\n",
      "  interactivity=interactivity, compiler=compiler, result=result)\n"
     ]
    }
   ],
   "source": [
    "survey = pd.read_csv('python_psf_external_18.csv')\n",
    "survey = survey.drop('Unnamed: 0', axis=1)\n",
    "survey.columns = [c.lower() for c in survey.columns]"
   ]
  },
  {
   "cell_type": "code",
   "execution_count": 15,
   "metadata": {},
   "outputs": [
    {
     "data": {
      "text/plain": [
       "(19835, 283)"
      ]
     },
     "execution_count": 15,
     "metadata": {},
     "output_type": "execute_result"
    }
   ],
   "source": [
    "survey.shape"
   ]
  },
  {
   "cell_type": "code",
   "execution_count": 16,
   "metadata": {},
   "outputs": [
    {
     "data": {
      "text/html": [
       "<div>\n",
       "<style scoped>\n",
       "    .dataframe tbody tr th:only-of-type {\n",
       "        vertical-align: middle;\n",
       "    }\n",
       "\n",
       "    .dataframe tbody tr th {\n",
       "        vertical-align: top;\n",
       "    }\n",
       "\n",
       "    .dataframe thead th {\n",
       "        text-align: right;\n",
       "    }\n",
       "</style>\n",
       "<table border=\"1\" class=\"dataframe\">\n",
       "  <thead>\n",
       "    <tr style=\"text-align: right;\">\n",
       "      <th></th>\n",
       "      <th>is python the main language you use for your current projects?</th>\n",
       "      <th>none:what other language(s) do you use?</th>\n",
       "      <th>java:what other language(s) do you use?</th>\n",
       "      <th>javascript:what other language(s) do you use?</th>\n",
       "      <th>c/c++:what other language(s) do you use?</th>\n",
       "      <th>php:what other language(s) do you use?</th>\n",
       "      <th>c#:what other language(s) do you use?</th>\n",
       "      <th>ruby:what other language(s) do you use?</th>\n",
       "      <th>bash / shell:what other language(s) do you use?</th>\n",
       "      <th>objective-c:what other language(s) do you use?</th>\n",
       "      <th>...</th>\n",
       "      <th>technical support:which of the following best describes your job role(s)?</th>\n",
       "      <th>data analyst:which of the following best describes your job role(s)?</th>\n",
       "      <th>business analyst:which of the following best describes your job role(s)?</th>\n",
       "      <th>team lead:which of the following best describes your job role(s)?</th>\n",
       "      <th>product manager:which of the following best describes your job role(s)?</th>\n",
       "      <th>cio / ceo / cto:which of the following best describes your job role(s)?</th>\n",
       "      <th>systems analyst:which of the following best describes your job role(s)?</th>\n",
       "      <th>other  write in::which of the following best describes your job role(s)?</th>\n",
       "      <th>could you tell us your age range?</th>\n",
       "      <th>what country do you live in?</th>\n",
       "    </tr>\n",
       "  </thead>\n",
       "  <tbody>\n",
       "    <tr>\n",
       "      <th>5394</th>\n",
       "      <td>Yes</td>\n",
       "      <td>NaN</td>\n",
       "      <td>Java</td>\n",
       "      <td>JavaScript</td>\n",
       "      <td>C/C++</td>\n",
       "      <td>NaN</td>\n",
       "      <td>C#</td>\n",
       "      <td>Ruby</td>\n",
       "      <td>NaN</td>\n",
       "      <td>NaN</td>\n",
       "      <td>...</td>\n",
       "      <td>NaN</td>\n",
       "      <td>NaN</td>\n",
       "      <td>NaN</td>\n",
       "      <td>NaN</td>\n",
       "      <td>NaN</td>\n",
       "      <td>NaN</td>\n",
       "      <td>NaN</td>\n",
       "      <td>NaN</td>\n",
       "      <td>18–20</td>\n",
       "      <td>United States</td>\n",
       "    </tr>\n",
       "  </tbody>\n",
       "</table>\n",
       "<p>1 rows × 283 columns</p>\n",
       "</div>"
      ],
      "text/plain": [
       "     is python the main language you use for your current projects?  \\\n",
       "5394                                                Yes               \n",
       "\n",
       "     none:what other language(s) do you use?  \\\n",
       "5394                                     NaN   \n",
       "\n",
       "     java:what other language(s) do you use?  \\\n",
       "5394                                    Java   \n",
       "\n",
       "     javascript:what other language(s) do you use?  \\\n",
       "5394                                    JavaScript   \n",
       "\n",
       "     c/c++:what other language(s) do you use?  \\\n",
       "5394                                    C/C++   \n",
       "\n",
       "     php:what other language(s) do you use?  \\\n",
       "5394                                    NaN   \n",
       "\n",
       "     c#:what other language(s) do you use?  \\\n",
       "5394                                    C#   \n",
       "\n",
       "     ruby:what other language(s) do you use?  \\\n",
       "5394                                    Ruby   \n",
       "\n",
       "     bash / shell:what other language(s) do you use?  \\\n",
       "5394                                             NaN   \n",
       "\n",
       "     objective-c:what other language(s) do you use?  \\\n",
       "5394                                            NaN   \n",
       "\n",
       "                 ...               \\\n",
       "5394             ...                \n",
       "\n",
       "     technical support:which of the following best describes your job role(s)?  \\\n",
       "5394                                                NaN                          \n",
       "\n",
       "     data analyst:which of the following best describes your job role(s)?  \\\n",
       "5394                                                NaN                     \n",
       "\n",
       "     business analyst:which of the following best describes your job role(s)?  \\\n",
       "5394                                                NaN                         \n",
       "\n",
       "     team lead:which of the following best describes your job role(s)?  \\\n",
       "5394                                                NaN                  \n",
       "\n",
       "     product manager:which of the following best describes your job role(s)?  \\\n",
       "5394                                                NaN                        \n",
       "\n",
       "     cio / ceo / cto:which of the following best describes your job role(s)?  \\\n",
       "5394                                                NaN                        \n",
       "\n",
       "     systems analyst:which of the following best describes your job role(s)?  \\\n",
       "5394                                                NaN                        \n",
       "\n",
       "     other  write in::which of the following best describes your job role(s)?  \\\n",
       "5394                                                NaN                         \n",
       "\n",
       "     could you tell us your age range? what country do you live in?  \n",
       "5394                             18–20                United States  \n",
       "\n",
       "[1 rows x 283 columns]"
      ]
     },
     "execution_count": 16,
     "metadata": {},
     "output_type": "execute_result"
    }
   ],
   "source": [
    "survey.sample()"
   ]
  },
  {
   "cell_type": "code",
   "execution_count": 17,
   "metadata": {},
   "outputs": [
    {
     "data": {
      "text/plain": [
       "Index(['is python the main language you use for your current projects?',\n",
       "       'none:what other language(s) do you use?',\n",
       "       'java:what other language(s) do you use?',\n",
       "       'javascript:what other language(s) do you use?',\n",
       "       'c/c++:what other language(s) do you use?',\n",
       "       'php:what other language(s) do you use?',\n",
       "       'c#:what other language(s) do you use?',\n",
       "       'ruby:what other language(s) do you use?',\n",
       "       'bash / shell:what other language(s) do you use?',\n",
       "       'objective-c:what other language(s) do you use?',\n",
       "       ...\n",
       "       'technical support:which of the following best describes your job role(s)?',\n",
       "       'data analyst:which of the following best describes your job role(s)?',\n",
       "       'business analyst:which of the following best describes your job role(s)?',\n",
       "       'team lead:which of the following best describes your job role(s)?',\n",
       "       'product manager:which of the following best describes your job role(s)?',\n",
       "       'cio / ceo / cto:which of the following best describes your job role(s)?',\n",
       "       'systems analyst:which of the following best describes your job role(s)?',\n",
       "       'other  write in::which of the following best describes your job role(s)?',\n",
       "       'could you tell us your age range?', 'what country do you live in?'],\n",
       "      dtype='object', length=283)"
      ]
     },
     "execution_count": 17,
     "metadata": {},
     "output_type": "execute_result"
    }
   ],
   "source": [
    "survey.columns"
   ]
  },
  {
   "cell_type": "code",
   "execution_count": 18,
   "metadata": {},
   "outputs": [],
   "source": [
    "def find_cols(df, kws):\n",
    "    '''找到 df 中含有 kws 的列'''\n",
    "    return [item for item in df.columns if all([w in item for w in kws])]"
   ]
  },
  {
   "cell_type": "code",
   "execution_count": 19,
   "metadata": {},
   "outputs": [
    {
     "data": {
      "text/plain": [
       "['which version of python do you use the most?',\n",
       " 'which version of python 2 do you use the most?',\n",
       " 'which version of python 3 do you use the most?',\n",
       " 'i dont update:what do you typically use to upgrade your python version?',\n",
       " 'somebody else manages python updates for me:what do you typically use to upgrade your python version?',\n",
       " 'python.org:what do you typically use to upgrade your python version?',\n",
       " 'build from source:what do you typically use to upgrade your python version?',\n",
       " 'automatic upgrade via cloud provider:what do you typically use to upgrade your python version?',\n",
       " 'enthought:what do you typically use to upgrade your python version?',\n",
       " 'anaconda:what do you typically use to upgrade your python version?',\n",
       " 'activepython:what do you typically use to upgrade your python version?',\n",
       " 'intel distribution for python:what do you typically use to upgrade your python version?',\n",
       " 'os-provided python (via apt-get, yum, homebrew, etc.):what do you typically use to upgrade your python version?',\n",
       " 'pyenv:what do you typically use to upgrade your python version?',\n",
       " 'pythonz:what do you typically use to upgrade your python version?',\n",
       " 'i use docker containers:what do you typically use to upgrade your python version?',\n",
       " 'other  write in::what do you typically use to upgrade your python version?',\n",
       " 'use version control systems:when developing in python, how often do you ?']"
      ]
     },
     "execution_count": 19,
     "metadata": {},
     "output_type": "execute_result"
    }
   ],
   "source": [
    "find_cols(df=survey, kws=['python', 'version'])"
   ]
  },
  {
   "cell_type": "markdown",
   "metadata": {
    "toc-hr-collapsed": false
   },
   "source": [
    "## 2018 年的问题\n",
    "\n",
    "- 使用 Python 2 和 Python 3 的开发者的比例？\n",
    "- 做数据分析和机器学习的人中分别有多少人使用的是 Python 3？\n",
    "- 常用框架中使用 Python 2 和 Python 3 的比例？\n",
    "- 做数据分析和机器学习的人常用的框架？\n",
    "- 公司规模大小和是否使用 Python 3 的关系？\n",
    "- 开发者年龄和是否使用 Python 3 的关系？\n",
    "- 使用 Python 3 和 Python 2 的开发者的国别分布？\n",
    "- 开发者中使用 IDE 的情况？"
   ]
  },
  {
   "cell_type": "code",
   "execution_count": null,
   "metadata": {},
   "outputs": [],
   "source": []
  }
 ],
 "metadata": {
  "kernelspec": {
   "display_name": "Python 3",
   "language": "python",
   "name": "python3"
  },
  "language_info": {
   "codemirror_mode": {
    "name": "ipython",
    "version": 3
   },
   "file_extension": ".py",
   "mimetype": "text/x-python",
   "name": "python",
   "nbconvert_exporter": "python",
   "pygments_lexer": "ipython3",
   "version": "3.6.5"
  },
  "toc-showtags": false
 },
 "nbformat": 4,
 "nbformat_minor": 2
}
